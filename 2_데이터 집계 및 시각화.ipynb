{
 "cells": [
  {
   "cell_type": "markdown",
   "id": "6840f0aa",
   "metadata": {},
   "source": [
    "## 1. 데이터 불러오기\n"
   ]
  },
  {
   "cell_type": "code",
   "execution_count": null,
   "id": "778bda16",
   "metadata": {},
   "outputs": [],
   "source": [
    "# library 불러오기 \n",
    "import pandas as pd\n",
    "import seaborn as sns\n",
    "import plotly.express as px\n",
    "pd.set_option('display.max_columns', 30) # 최대 출력 변수 개수 수정"
   ]
  },
  {
   "cell_type": "code",
   "execution_count": null,
   "id": "a109d543",
   "metadata": {},
   "outputs": [],
   "source": [
    "# 예제 데이터\n",
    "df_or = pd.read_excel('./data/Online Retail.xlsx')"
   ]
  },
  {
   "cell_type": "code",
   "execution_count": null,
   "id": "01004483",
   "metadata": {},
   "outputs": [],
   "source": [
    "# 예제 데이터 처리\n",
    "df_or['InvoiceDate2'] = df_or['InvoiceDate'].dt.normalize()\n",
    "df_or['InvoiceMonth'] = df_or['InvoiceDate'].dt.month\n",
    "df_or['InvoiceYear'] = df_or['InvoiceDate'].dt.year\n",
    "df_or['InvoiceYM'] = df_or['InvoiceDate'].dt.strftime('`%y.%m.')\n",
    "# df_or['InvoiceYM'] = df_or['InvoiceDate'].dt.to_period('M')\n",
    "df_or['Amount'] = df_or['Quantity']*df_or['UnitPrice']"
   ]
  },
  {
   "cell_type": "code",
   "execution_count": null,
   "id": "7d09bf70",
   "metadata": {
    "scrolled": true
   },
   "outputs": [],
   "source": [
    "df_or.tail(3)"
   ]
  },
  {
   "cell_type": "code",
   "execution_count": null,
   "id": "a1c5f8e0",
   "metadata": {
    "scrolled": true
   },
   "outputs": [],
   "source": [
    "# 실습 데이터\n",
    "df_ss = pd.read_excel('./data/Global Superstore 2018.xlsx')\n",
    "df_ss['Order YM'] = df_ss['Order Date'].dt.to_period('M').dt.to_timestamp()\n",
    "df_ss.tail(3)"
   ]
  },
  {
   "cell_type": "markdown",
   "id": "bdc04e7d",
   "metadata": {},
   "source": [
    "<br>\n",
    "\n",
    "## 2. 그룹 집계값의 계산과 그래프 작성  \n",
    "\n",
    "\n",
    "* 참고: [seaborn](https://seaborn.pydata.org/examples/)\n",
    "\n",
    "### 2.1. groupby() 등을 활용한 집계값 계산"
   ]
  },
  {
   "cell_type": "code",
   "execution_count": null,
   "id": "d95ef194",
   "metadata": {},
   "outputs": [],
   "source": [
    "# 전체 합계, 평균 등 계산\n",
    "df_or['Amount'].sum(), df_or['Amount'].mean(), df_or['Amount'].median(), df_or['Amount'].count()"
   ]
  },
  {
   "cell_type": "code",
   "execution_count": null,
   "id": "fb54d6ff",
   "metadata": {},
   "outputs": [],
   "source": [
    "# agg()의 활용\n",
    "df_or['Amount'].agg(['count', 'sum', 'mean'])"
   ]
  },
  {
   "cell_type": "code",
   "execution_count": null,
   "id": "1680377b",
   "metadata": {},
   "outputs": [],
   "source": [
    "# agg()의 활용(2): 매출액의 건수/합계, 평균, 수량의 합계\n",
    "df_or.agg({'Amount':['count', 'sum', 'mean'], 'Quantity':['sum']})"
   ]
  },
  {
   "cell_type": "code",
   "execution_count": null,
   "id": "e8404914",
   "metadata": {},
   "outputs": [],
   "source": [
    "# 그룹별 집계값의 계산: 제품별 주문건수, 매출액, 수량\n",
    "df_or_agg1 = df_or.groupby('StockCode', as_index=False).agg({'Amount':['count', 'sum'], 'Quantity':['sum']})\n",
    "df_or_agg1"
   ]
  },
  {
   "cell_type": "code",
   "execution_count": null,
   "id": "3b36cee0",
   "metadata": {},
   "outputs": [],
   "source": [
    "# 그룹별 집계값의 계산: 고객별 매출액\n",
    "df_or_agg2 = df_or.groupby('CustomerID', as_index=False)['Amount'].agg(['count', 'sum'])\n",
    "df_or_agg2"
   ]
  },
  {
   "cell_type": "code",
   "execution_count": null,
   "id": "9026e705",
   "metadata": {},
   "outputs": [],
   "source": [
    "# 추가 정보 확인: sum이 0인 경우\n",
    "df_or[df_or['CustomerID']==12346]"
   ]
  },
  {
   "cell_type": "code",
   "execution_count": null,
   "id": "49b74403",
   "metadata": {},
   "outputs": [],
   "source": [
    "# 추가 정보 확인: 매출액 기준 상위 10명 고객\n",
    "df_or_agg2.nlargest(10, 'sum')"
   ]
  },
  {
   "cell_type": "code",
   "execution_count": null,
   "id": "99624bb6",
   "metadata": {},
   "outputs": [],
   "source": [
    "# 추가 정보 확인: 매출액 기준 상위 10명 고객의 주요 구매 상품\n",
    "target_cust = df_or_agg2.nlargest(10, 'sum')['CustomerID']\n",
    "c1 = df_or['CustomerID'].isin(target_cust)\n",
    "df_or_agg3 = df_or[c1].groupby('StockCode', as_index=False).agg({'Amount':['sum'], 'Quantity':['sum']})\n",
    "df_or_agg3.sort_values(('Amount', 'sum'), ascending=False)"
   ]
  },
  {
   "cell_type": "code",
   "execution_count": null,
   "id": "b5bc187b",
   "metadata": {},
   "outputs": [],
   "source": []
  },
  {
   "cell_type": "markdown",
   "id": "1cbc4c20",
   "metadata": {},
   "source": [
    "<br>\n",
    "\n",
    "### [실습] df_ss에서 집계값 계산하기\n",
    "\n",
    "\n",
    "1. 'Sales'의 전체 합계 계산\n",
    "2. 'Customer ID'별 'Sales'의 합계 계산\n",
    "3. 'Product ID'별 'Sales'의 합계와 'Profit'의 합계를 한번에 계산\n"
   ]
  },
  {
   "cell_type": "code",
   "execution_count": null,
   "id": "8f5c731d",
   "metadata": {},
   "outputs": [],
   "source": [
    "df_ss.head()"
   ]
  },
  {
   "cell_type": "code",
   "execution_count": null,
   "id": "b22f9c71",
   "metadata": {},
   "outputs": [],
   "source": []
  },
  {
   "cell_type": "code",
   "execution_count": null,
   "id": "fd9d2a8a",
   "metadata": {},
   "outputs": [],
   "source": []
  },
  {
   "cell_type": "code",
   "execution_count": null,
   "id": "c6d0b48d",
   "metadata": {},
   "outputs": [],
   "source": []
  },
  {
   "cell_type": "markdown",
   "id": "899c4295",
   "metadata": {},
   "source": [
    "<br>\n",
    "\n",
    "### 2.2. 히스토그램과 막대그래프 작성"
   ]
  },
  {
   "cell_type": "code",
   "execution_count": null,
   "id": "2af9c65c",
   "metadata": {},
   "outputs": [],
   "source": [
    "# 집계 데이터 생성: 제품별 매출액\n",
    "df_or_agg1 = df_or.groupby('StockCode', as_index=False)['Amount'].sum()\n",
    "df_or_agg1"
   ]
  },
  {
   "cell_type": "code",
   "execution_count": null,
   "id": "c1167945",
   "metadata": {},
   "outputs": [],
   "source": [
    "#  히스토그램을 활용한 'Amount'의 분포 확인\n",
    "sns.histplot(data=df_or_agg1, \n",
    "             x='Amount')"
   ]
  },
  {
   "cell_type": "code",
   "execution_count": null,
   "id": "05543edc",
   "metadata": {},
   "outputs": [],
   "source": [
    "#  일부 관측치를 활용한 히스토그램을 활용한 'Amount'의 분포 확인\n",
    "c1 = df_or_agg1['Amount'].between(0, 20000)\n",
    "sns.histplot(data=df_or_agg1[c1], \n",
    "             x='Amount')"
   ]
  },
  {
   "cell_type": "code",
   "execution_count": null,
   "id": "5721ad2b",
   "metadata": {},
   "outputs": [],
   "source": [
    "# 일부 제품, 매출액의 막대그래프\n",
    "sns.barplot(data=df_or_agg1.nlargest(20, 'Amount'),\n",
    "            y='StockCode',\n",
    "            x='Amount')"
   ]
  },
  {
   "cell_type": "markdown",
   "id": "beaeb84c",
   "metadata": {},
   "source": [
    "<br>\n",
    "\n",
    "### [실습] df_ss에서 집계값을 그래프로 표현하기\n",
    "\n",
    "\n",
    "1. 'Customer ID'별 'Sales'의 합계 계산\n",
    "2. 1.에서 'Sales'의 분포를 히스토그램으로 확인하기\n",
    "3. 1.의 'Sales'의 합계 기준 상위 20개 고객을 선택하고 막대그래프 그리기\n"
   ]
  },
  {
   "cell_type": "code",
   "execution_count": null,
   "id": "e34ea970",
   "metadata": {},
   "outputs": [],
   "source": []
  },
  {
   "cell_type": "code",
   "execution_count": null,
   "id": "53869b99",
   "metadata": {},
   "outputs": [],
   "source": []
  },
  {
   "cell_type": "code",
   "execution_count": null,
   "id": "726610c1",
   "metadata": {},
   "outputs": [],
   "source": []
  },
  {
   "cell_type": "markdown",
   "id": "7555f442",
   "metadata": {},
   "source": [
    "<br>\n",
    "\n",
    "\n",
    "### 2.3. 여러 그룹변수를 활용한 집계값 계산"
   ]
  },
  {
   "cell_type": "code",
   "execution_count": null,
   "id": "b63542e5",
   "metadata": {
    "scrolled": true
   },
   "outputs": [],
   "source": [
    "# 월, 국가별 매출액 추이\n",
    "df_or_agg4= df_or.groupby(['InvoiceYM', 'Country'], as_index=False)['Amount'].sum()\n",
    "df_or_agg4"
   ]
  },
  {
   "cell_type": "code",
   "execution_count": null,
   "id": "8c6a9436",
   "metadata": {},
   "outputs": [],
   "source": [
    "# 선그래프 활용\n",
    "sns.lineplot(data=df_or_agg4,\n",
    "             x='InvoiceYM',\n",
    "             y='Amount',\n",
    "             hue='Country')"
   ]
  },
  {
   "cell_type": "code",
   "execution_count": null,
   "id": "02bc21a9",
   "metadata": {
    "tags": []
   },
   "outputs": [],
   "source": [
    "# 일부 관측치 활용 \n",
    "c1 = df_or_agg4['Country'].isin(['Spain','France','Germany'])\n",
    "sns.lineplot(data=df_or_agg4[c1],\n",
    "             x='InvoiceYM',\n",
    "             y='Amount',\n",
    "             hue='Country')"
   ]
  },
  {
   "cell_type": "markdown",
   "id": "1f646980",
   "metadata": {},
   "source": [
    "<br>\n",
    "\n",
    "### [실습] df_ss에서 집계값을 그래프로 표현하기(2)\n",
    "\n",
    "1. 'Order YM', 'Category'별 'Sales'의 합계 계산\n",
    "2. 1.에서 'Order YM'에 따른 'Sales' 합계의 추이를 'Category'별로 색을 다르게 한 선그래프로 표현하기\n"
   ]
  },
  {
   "cell_type": "code",
   "execution_count": null,
   "id": "334268fb",
   "metadata": {},
   "outputs": [],
   "source": []
  },
  {
   "cell_type": "code",
   "execution_count": null,
   "id": "e3b128af",
   "metadata": {},
   "outputs": [],
   "source": []
  },
  {
   "cell_type": "code",
   "execution_count": null,
   "id": "1b72d464",
   "metadata": {},
   "outputs": [],
   "source": []
  },
  {
   "cell_type": "markdown",
   "id": "876ca5c1",
   "metadata": {},
   "source": [
    "### 2.4. 집계값의 파생 변수 생성"
   ]
  },
  {
   "cell_type": "code",
   "execution_count": null,
   "id": "a243fca1",
   "metadata": {},
   "outputs": [],
   "source": [
    "# 연, 국가별 매출액 추이\n",
    "df_or_agg4= df_or.groupby(['InvoiceYM', 'Country'], as_index=False)['Amount'].sum()\n",
    "df_or_agg4"
   ]
  },
  {
   "cell_type": "code",
   "execution_count": null,
   "id": "c865ad29",
   "metadata": {},
   "outputs": [],
   "source": [
    "# 국가별 전월 매출액 변수 추가\n",
    "df_or_agg4['LAmount'] = df_or_agg4.groupby('Country')['Amount'].shift()\n",
    "df_or_agg4"
   ]
  },
  {
   "cell_type": "code",
   "execution_count": null,
   "id": "5f074b41",
   "metadata": {},
   "outputs": [],
   "source": [
    "# 국가별 전월 대비 매출액 증감률 변수 추가\n",
    "df_or_agg4['RAmount'] = (df_or_agg4['Amount'] - df_or_agg4['LAmount'])/df_or_agg4['LAmount']*100\n",
    "df_or_agg4"
   ]
  },
  {
   "cell_type": "code",
   "execution_count": null,
   "id": "32a45547",
   "metadata": {},
   "outputs": [],
   "source": [
    "# 일부 관측치 막대그래프 \n",
    "c1 = df_or_agg4['InvoiceYM'] == '`11.12.'\n",
    "sns.barplot(data=df_or_agg4[c1], \n",
    "            y='Country',\n",
    "            x='RAmount')"
   ]
  },
  {
   "cell_type": "markdown",
   "id": "3c848634",
   "metadata": {},
   "source": [
    "<br>\n",
    "\n",
    "### [실습] df_ss에서 집계값을 그래프로 표현하기(3)\n",
    "\n",
    "1. 'Order YM', 'Category'별 'Sales'의 합계 계산\n",
    "2. 1.에서 'Category'별 전월대비 'Sales'의 증감률을 계산\n",
    "3. 2.의 'Order YM'과 'Sales의 증감률'을 'Category'별로 색을 다르게 한 선그래프로 작성\n"
   ]
  },
  {
   "cell_type": "code",
   "execution_count": null,
   "id": "1108aeaf",
   "metadata": {},
   "outputs": [],
   "source": []
  },
  {
   "cell_type": "code",
   "execution_count": null,
   "id": "007e07c7",
   "metadata": {},
   "outputs": [],
   "source": []
  },
  {
   "cell_type": "code",
   "execution_count": null,
   "id": "3c6cc3c4",
   "metadata": {},
   "outputs": [],
   "source": []
  },
  {
   "cell_type": "code",
   "execution_count": null,
   "id": "df1d3be5",
   "metadata": {},
   "outputs": [],
   "source": []
  },
  {
   "cell_type": "markdown",
   "id": "e6c58f38",
   "metadata": {},
   "source": [
    "<br>\n",
    "\n",
    "\n",
    "## 3. 피벗테이블과 열지도"
   ]
  },
  {
   "cell_type": "markdown",
   "id": "44a1e772",
   "metadata": {},
   "source": [
    "### 3.1. 피벗테이블 생성 \n",
    "\n",
    "pandas의 *pivot_table()* 을 활용하면 Excel의 피벗테이블과 동일한 표 형태의 집계 가능"
   ]
  },
  {
   "cell_type": "code",
   "execution_count": null,
   "id": "2d96c50f",
   "metadata": {},
   "outputs": [],
   "source": [
    "# pivot_table()을 활용한 교차표 작성\n",
    "    ## values : 값 변수\n",
    "    ## index  : 행 그룹변수\n",
    "    ## columns: 열 그룹변수 \n",
    "    ## aggfunc: 집계 함수\n",
    "pt1 = df_or.pivot_table(values='Amount', index='Country', columns='InvoiceYM', aggfunc='sum')\n",
    "pt1"
   ]
  },
  {
   "cell_type": "code",
   "execution_count": null,
   "id": "9f5b2084",
   "metadata": {},
   "outputs": [],
   "source": [
    "# margin(행/열/전체 합계 )\n",
    "df_or.pivot_table(values='Amount', index='Country', columns='InvoiceYM', aggfunc='sum', margins=True)"
   ]
  },
  {
   "cell_type": "code",
   "execution_count": null,
   "id": "cef4fa79",
   "metadata": {},
   "outputs": [],
   "source": [
    "# 열지도 시각화\n",
    "# sns.heatmap(pt1, cmap='Blues', annot=True, fmt='.2f')\n",
    "sns.heatmap(pt1, cmap='Blues')"
   ]
  },
  {
   "cell_type": "markdown",
   "id": "d35a4a63",
   "metadata": {},
   "source": [
    "<br>\n",
    "\n",
    "### [실습] df_ss에서 집계값을 그래프로 표현하기(3)\n",
    "\n",
    "1. 'Market', 'Category'별 'Profit'의 합계 피벗테이블 생성\n",
    "2. 1.의 피벗테이블을 열지도로 그리기"
   ]
  },
  {
   "cell_type": "code",
   "execution_count": null,
   "id": "776e2326",
   "metadata": {},
   "outputs": [],
   "source": []
  },
  {
   "cell_type": "code",
   "execution_count": null,
   "id": "2cc1aed3",
   "metadata": {},
   "outputs": [],
   "source": []
  },
  {
   "cell_type": "code",
   "execution_count": null,
   "id": "c94152d8",
   "metadata": {},
   "outputs": [],
   "source": []
  },
  {
   "cell_type": "markdown",
   "id": "49c3656e",
   "metadata": {},
   "source": [
    "## 4. 반응형 그래프의 활용\n",
    "\n",
    "\n",
    "\n",
    "**plotly**를 활용해서 반응형 그래프를 그려서 탐색적 데이터 분석(EDA) 과정에서 유용하게 활용 가능\n",
    "\n",
    "* 참고: [Plotly](https://plotly.com/python/)"
   ]
  },
  {
   "cell_type": "markdown",
   "id": "67a99b63",
   "metadata": {},
   "source": [
    "### 4.1. 반응형 산점도 예제"
   ]
  },
  {
   "cell_type": "code",
   "execution_count": null,
   "id": "460fbf47",
   "metadata": {},
   "outputs": [],
   "source": [
    "# 집계값 계산: 상품별 주문건수, 주문수량 합계, 평균 단가, 주문금액 합계\n",
    "df_or_agg6 = df_or.groupby(['StockCode', 'Description'], as_index=False).agg({'InvoiceNo':'count', 'Quantity':'sum', 'UnitPrice':'mean', 'Amount':'sum'})\n",
    "df_or_agg6"
   ]
  },
  {
   "cell_type": "code",
   "execution_count": null,
   "id": "226e928c",
   "metadata": {},
   "outputs": [],
   "source": [
    "# plotly 그래프가 나오지 않을 때 실행\n",
    "# import plotly.offline as pyo\n",
    "# pyo.init_notebook_mode()"
   ]
  },
  {
   "cell_type": "code",
   "execution_count": null,
   "id": "93e7066e",
   "metadata": {},
   "outputs": [],
   "source": [
    "# 반응형 산점도 작성\n",
    "px.scatter(data_frame=df_or_agg6.nlargest(100, 'Quantity'),\n",
    "           x='Quantity',\n",
    "           y='Amount', \n",
    "           size='UnitPrice', \n",
    "           color='InvoiceNo')"
   ]
  },
  {
   "cell_type": "code",
   "execution_count": null,
   "id": "d48f4423",
   "metadata": {},
   "outputs": [],
   "source": [
    "# 반응형 산점도 작성\n",
    "px.scatter(data_frame=df_or_agg6.nlargest(100, 'Quantity'),\n",
    "           x='Quantity',\n",
    "           y='Amount', \n",
    "           size='UnitPrice', \n",
    "           color='InvoiceNo', \n",
    "           \n",
    "           width=600, \n",
    "           template='simple_white',\n",
    "           hover_name='Description',\n",
    "           hover_data=['StockCode'], \n",
    "           color_continuous_scale='Greens')"
   ]
  },
  {
   "cell_type": "markdown",
   "id": "b169fc15",
   "metadata": {},
   "source": [
    "### 4.2. 일별 집계 중심 선그래프"
   ]
  },
  {
   "cell_type": "code",
   "execution_count": null,
   "id": "b1b7aeb6",
   "metadata": {},
   "outputs": [],
   "source": [
    "df_or_agg7 = df_or.groupby(['InvoiceDate2', 'Country'], as_index=False)['Amount'].sum()\n",
    "df_or_agg7"
   ]
  },
  {
   "cell_type": "code",
   "execution_count": null,
   "id": "564f6d34",
   "metadata": {},
   "outputs": [],
   "source": [
    "px.line(data_frame=df_or_agg7,\n",
    "        x='InvoiceDate2',\n",
    "        y='Amount',\n",
    "        color='Country')"
   ]
  },
  {
   "cell_type": "markdown",
   "id": "a5c74061",
   "metadata": {},
   "source": [
    "### 4.3. 막대그래프"
   ]
  },
  {
   "cell_type": "code",
   "execution_count": null,
   "id": "ddc3ce1c",
   "metadata": {},
   "outputs": [],
   "source": [
    "df_or_agg8 = df_or.groupby(['InvoiceYM', 'Country'], as_index=False)['Amount'].sum()\n",
    "df_or_agg8"
   ]
  },
  {
   "cell_type": "code",
   "execution_count": null,
   "id": "74866870",
   "metadata": {},
   "outputs": [],
   "source": [
    "# 비율 변수 추가\n",
    "df_or_agg8['RAmount'] = df_or_agg8.groupby('InvoiceYM')['Amount'].apply(lambda x: x/sum(x)).to_list()\n",
    "df_or_agg8"
   ]
  },
  {
   "cell_type": "code",
   "execution_count": null,
   "id": "856a69eb",
   "metadata": {},
   "outputs": [],
   "source": [
    "px.bar(data_frame=df_or_agg8,\n",
    "       x='InvoiceYM',\n",
    "       y='RAmount',\n",
    "       color='Country')"
   ]
  },
  {
   "cell_type": "markdown",
   "id": "074c0194",
   "metadata": {},
   "source": [
    "<br>\n",
    "\n",
    "### [실습] df_ss로 반응형 그래프 그리기\n",
    "\n",
    "1. groupby()를 활용해 'Market', 'Category'별 'Profit'의 합계를 계산하고 저장하기\n",
    "2. 1.의 결과물을 x축을 'Market', y축을 'Profit'의 합계, color와 text를 'Category'로 지정한 막대그래프로 표현하기\n",
    "3. groupby()를 활용해 'Order Date', 'Sub-Category'별  'Sales'의 합계를 계산하고 선그래프로 그리기"
   ]
  },
  {
   "cell_type": "code",
   "execution_count": null,
   "id": "9e2e4068",
   "metadata": {},
   "outputs": [],
   "source": [
    "df_ss.head()"
   ]
  },
  {
   "cell_type": "code",
   "execution_count": null,
   "id": "8ac3051a",
   "metadata": {},
   "outputs": [],
   "source": []
  },
  {
   "cell_type": "code",
   "execution_count": null,
   "id": "99b77f07",
   "metadata": {},
   "outputs": [],
   "source": []
  },
  {
   "cell_type": "code",
   "execution_count": null,
   "id": "fa9e9633",
   "metadata": {},
   "outputs": [],
   "source": []
  },
  {
   "cell_type": "code",
   "execution_count": null,
   "id": "e1d4dc3f",
   "metadata": {},
   "outputs": [],
   "source": []
  },
  {
   "cell_type": "markdown",
   "id": "5a41c35b",
   "metadata": {},
   "source": [
    "### End of script"
   ]
  }
 ],
 "metadata": {
  "kernelspec": {
   "display_name": "Python 3 (ipykernel)",
   "language": "python",
   "name": "python3"
  },
  "language_info": {
   "codemirror_mode": {
    "name": "ipython",
    "version": 3
   },
   "file_extension": ".py",
   "mimetype": "text/x-python",
   "name": "python",
   "nbconvert_exporter": "python",
   "pygments_lexer": "ipython3",
   "version": "3.11.3"
  }
 },
 "nbformat": 4,
 "nbformat_minor": 5
}
