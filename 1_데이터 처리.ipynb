{
 "cells": [
  {
   "cell_type": "markdown",
   "id": "3cb1670a",
   "metadata": {},
   "source": [
    "## 1. 준비\n",
    "\n",
    "### 1.1. Jupyter Notebook 사용법, 기능 및 단축키 소개  \n",
    "\n",
    "jupyter notebook은 여러 cell을 수직적으로 결합해서 문서를 만들거나 분석을 수행  \n",
    "상단 메뉴바와 아이콘을 활용하여 cell을 추가, 제거, 이동, 복사 가능  \n",
    "cell에 명령어를 입력하고 실행해서 결과 확인  \n",
    "\n",
    "\n",
    "* 파란색 : 명령 모드(cell의 추가, 복사, 삭제 등), \"ESC\"\n",
    "  - `H` : 단축키 목록 팝업\n",
    "  - `A` : 위에 cell 추가 \n",
    "  - `B` : 아래에 cell 추가\n",
    "  - `위/아래 화살표` : cell 이동\n",
    "  - `D, D` : cell 삭제\n",
    "  - `M` : cell을 Markdown(문서 작성) 형식으로 변경\n",
    "  - `Y` : cell을 Code(명령어 작성) 형식으로 변경\n",
    "  - `S`, `Ctrl + S` : 저장\n",
    "  \n",
    "  \n",
    "* 초록색 : 수정 모드(각 cell 안에서 명령어 등 입력), \"ENTER\"\n",
    "  - `Tab` : 들여쓰기 혹은 코드 완성\n",
    "  - `Shift + Tab` : 들여쓰기 취소 혹은 툴팁(도움말)\n",
    "  - `Ctrl + /` : 주석처리/해제\n",
    "\n",
    "* cell 실행 \n",
    "  - `Shift + Enter` : 실행하고 다음 cell로 이동\n",
    "  - `Ctrl + Enter` : 실행\n",
    "  \n",
    "\n",
    "<br>\n",
    "\n",
    "\n",
    "\n"
   ]
  },
  {
   "cell_type": "markdown",
   "id": "fbf027b8",
   "metadata": {},
   "source": [
    "### 1.2. pip를 활용한 Library 설치 및 확인\n",
    "\n",
    "Python을 활용해 데이터를 분석하기 위해서는 pandas와 같은 라이브러리 설치가 필수\n",
    "<span style='color:blue;font-weight:bold'>pip</span> 명령어를 활용해서 라이브러리를 설치 가능  \n",
    "jupyter notebook 안에서 shell command를 실행하기 위해서 <span style='color:purple;font-weight:bold'>!</span>를 앞에 붙임   "
   ]
  },
  {
   "cell_type": "code",
   "execution_count": null,
   "id": "2902056e",
   "metadata": {
    "scrolled": true
   },
   "outputs": [],
   "source": [
    "# 라이브러리 설치\n",
    "!pip install pandas~=2.0 matplotlib seaborn~=0.11 plotly~=5.15 xlrd openpyxl"
   ]
  },
  {
   "cell_type": "code",
   "execution_count": null,
   "id": "f0274544",
   "metadata": {},
   "outputs": [],
   "source": [
    "# Windows \n",
    "!pip list | findstr /r \"pandas seaborn plotly openpyxl\"\n",
    "\n",
    "# macOS\n",
    "# !pip list | grep -E '^pandas |seaborn |plotly |openpyxl '"
   ]
  },
  {
   "cell_type": "code",
   "execution_count": null,
   "id": "3f74f4ab",
   "metadata": {},
   "outputs": [],
   "source": [
    "# list 형식의 활용\n",
    "['pandas', 'seaborn', 'plotly']"
   ]
  },
  {
   "cell_type": "code",
   "execution_count": null,
   "id": "8ceb8304",
   "metadata": {},
   "outputs": [],
   "source": []
  },
  {
   "cell_type": "markdown",
   "id": "29f4563c",
   "metadata": {},
   "source": [
    "<br>\n",
    "<hr>\n",
    "<br>\n",
    "\n",
    "## 2. 데이터 불러오기 및 정보 확인\n",
    "\n",
    "#### 데이터 출처  \n",
    "+ Online Retail: [UCI Machine Learning Repository](https://doi.org/10.24432/C5BW33)\n",
    "+ Global Superstore 2018: Tableau\n",
    "    - [예제 대시보드](https://www.tableau.com/data-insights/dashboard-showcase/superstore)\n",
    "    - [분석 예제 블로그](https://saulventura.github.io/BTYD/)\n",
    "    - [Kaggle Notebook](https://www.kaggle.com/search?q=superstore+dataset)\n",
    "    \n"
   ]
  },
  {
   "cell_type": "code",
   "execution_count": null,
   "id": "1842e166",
   "metadata": {},
   "outputs": [],
   "source": [
    "# library 불러오기 \n",
    "import pandas as pd\n",
    "pd.set_option('display.max_columns', 30) # 최대 출력 변수 개수 수정"
   ]
  },
  {
   "cell_type": "code",
   "execution_count": null,
   "id": "d881a9a0",
   "metadata": {},
   "outputs": [],
   "source": [
    "# pandas의 read_excel( ) 활용\n",
    "df_or = pd.read_excel('./data/Online Retail.xlsx')\n",
    "df_or\n",
    "    # ./ : ipynb 노트북 파일 폴더\n",
    "    # Tab으로 자동 완성 기능 활용 가능 "
   ]
  },
  {
   "cell_type": "code",
   "execution_count": null,
   "id": "a2756fb6",
   "metadata": {},
   "outputs": [],
   "source": [
    "# 타입 확인\n",
    "type(df_or)\n",
    "    ## \"DataFrame\""
   ]
  },
  {
   "cell_type": "code",
   "execution_count": null,
   "id": "07e0a816",
   "metadata": {},
   "outputs": [],
   "source": [
    "# 메서드의 확인(마침표 뒤에서 Tab 누르기)\n",
    "df_or."
   ]
  },
  {
   "cell_type": "code",
   "execution_count": null,
   "id": "1b6ebd5f",
   "metadata": {},
   "outputs": [],
   "source": [
    "# 다양한 정보 확인\n",
    "# df_or.head()  # 첫 n개 관측치 확인\n",
    "# df_or.tail()  # 마지막 n개 관측치 확인\n",
    "# df_or.info()  # 변수 구성 및 형식 확인\n",
    "# df_or.dtypes  # 변수 형식 확인\n",
    "# df_or.columns # 변수 이름 확인"
   ]
  },
  {
   "cell_type": "markdown",
   "id": "574eabe7",
   "metadata": {},
   "source": [
    "<br>\n",
    "\n",
    "### [실습] data 폴더의 Global Superstore 2018.xlsx를 불러와서 df_ss로 저장하기\n",
    "\n",
    "이후 자유롭게 데이터 탐색하기  \n",
    "특히 변수의 목록과 날짜 변수의 형식 확인하기"
   ]
  },
  {
   "cell_type": "code",
   "execution_count": null,
   "id": "174d3b09",
   "metadata": {},
   "outputs": [],
   "source": [
    "# df_ss "
   ]
  },
  {
   "cell_type": "code",
   "execution_count": null,
   "id": "830ce88c",
   "metadata": {},
   "outputs": [],
   "source": []
  },
  {
   "cell_type": "code",
   "execution_count": null,
   "id": "b665c52b",
   "metadata": {},
   "outputs": [],
   "source": []
  },
  {
   "cell_type": "code",
   "execution_count": null,
   "id": "5d2cbb8d",
   "metadata": {},
   "outputs": [],
   "source": []
  },
  {
   "cell_type": "markdown",
   "id": "22d608e5",
   "metadata": {},
   "source": [
    "<br>\n",
    "\n",
    "## 3. 변수(column, variable, feature)와 관측치(row, index, observation)  선택"
   ]
  },
  {
   "cell_type": "markdown",
   "id": "ae7a8305",
   "metadata": {},
   "source": [
    "### 3.1. 변수 선택"
   ]
  },
  {
   "cell_type": "code",
   "execution_count": null,
   "id": "40b62e74",
   "metadata": {},
   "outputs": [],
   "source": []
  },
  {
   "cell_type": "code",
   "execution_count": null,
   "id": "667f8d96",
   "metadata": {},
   "outputs": [],
   "source": [
    "# 한 변수 선택\n",
    "df_or['StockCode']"
   ]
  },
  {
   "cell_type": "code",
   "execution_count": null,
   "id": "0a9d6016",
   "metadata": {},
   "outputs": [],
   "source": [
    "# 여러 변수 선택\n",
    "df_or[['StockCode', 'Quantity']]"
   ]
  },
  {
   "cell_type": "code",
   "execution_count": null,
   "id": "e7e16fda",
   "metadata": {},
   "outputs": [],
   "source": [
    "# .loc[]의 활용 \n",
    "df_or.loc[:, ['StockCode', 'Quantity']]\n",
    "    # .loc[관측치, 변수]"
   ]
  },
  {
   "cell_type": "code",
   "execution_count": null,
   "id": "b4e52655",
   "metadata": {},
   "outputs": [],
   "source": [
    "df_or.loc[:, 'StockCode':'Quantity']"
   ]
  },
  {
   "cell_type": "markdown",
   "id": "a190a743",
   "metadata": {},
   "source": [
    "<br>\n",
    "\n",
    "### [실습] df_ss에서 관심있는 변수 선택하기\n",
    "\n",
    "> 역할 설정 > 변수 선택 > 분석\n",
    "\n",
    "1. 하나의 변수 선택\n",
    "2. 역할에 맞게 여러 변수 선택"
   ]
  },
  {
   "cell_type": "code",
   "execution_count": null,
   "id": "b95b6056",
   "metadata": {},
   "outputs": [],
   "source": [
    "df_ss.head(3)"
   ]
  },
  {
   "cell_type": "code",
   "execution_count": null,
   "id": "783d1fc4",
   "metadata": {},
   "outputs": [],
   "source": [
    "# 한 변수 선택\n"
   ]
  },
  {
   "cell_type": "code",
   "execution_count": null,
   "id": "840c342c",
   "metadata": {},
   "outputs": [],
   "source": [
    "# 여러 변수 선택 \n"
   ]
  },
  {
   "cell_type": "code",
   "execution_count": null,
   "id": "8585ec3a",
   "metadata": {},
   "outputs": [],
   "source": []
  },
  {
   "cell_type": "markdown",
   "id": "f155da1c",
   "metadata": {},
   "source": [
    "### 3.2. 중복값 제거 목록 생성"
   ]
  },
  {
   "cell_type": "code",
   "execution_count": null,
   "id": "bd255e6e",
   "metadata": {},
   "outputs": [],
   "source": [
    "# 고객 목록 생성\n",
    "df_or['CustomerID'].drop_duplicates()"
   ]
  },
  {
   "cell_type": "code",
   "execution_count": null,
   "id": "0b0f32a9",
   "metadata": {},
   "outputs": [],
   "source": [
    "# 주문 정보 데이터 생성\n",
    "df_or[['InvoiceNo', 'InvoiceDate', 'CustomerID', 'Country']].drop_duplicates()"
   ]
  },
  {
   "cell_type": "markdown",
   "id": "4890c84c",
   "metadata": {},
   "source": [
    "<br>\n",
    "\n",
    "### [실습] df_ss에서 부분 데이터 생성\n",
    "\n",
    "1. 고객 데이터 생성: 'Customer ID', 'Customer Name', 'Country', 'Region'\n",
    "2. 상품 데이터 생성: 'Order ID', 'Order Date', 'Ship Date', 'Customer ID'\n",
    "\n"
   ]
  },
  {
   "cell_type": "code",
   "execution_count": null,
   "id": "bd8336a6",
   "metadata": {},
   "outputs": [],
   "source": [
    "# 고객 데이터 생성\n",
    "    \n"
   ]
  },
  {
   "cell_type": "code",
   "execution_count": null,
   "id": "69e8b78b",
   "metadata": {},
   "outputs": [],
   "source": [
    "# 상품 데이터 생성\n",
    "    "
   ]
  },
  {
   "cell_type": "code",
   "execution_count": null,
   "id": "3a5e8706",
   "metadata": {},
   "outputs": [],
   "source": []
  },
  {
   "cell_type": "markdown",
   "id": "abea6c23",
   "metadata": {},
   "source": [
    "<br>\n",
    "\n",
    "### 3.2. 조건을 활용한 관측치 선택"
   ]
  },
  {
   "cell_type": "markdown",
   "id": "13ea1ee9",
   "metadata": {},
   "source": [
    "#### 3.2.1. 조건 활용 관측치 선택의 이해"
   ]
  },
  {
   "cell_type": "code",
   "execution_count": null,
   "id": "6808a3ec",
   "metadata": {},
   "outputs": [],
   "source": [
    "# Step 1. 변수 선택 및 조건 설정\n",
    "c1 = df_or['UnitPrice']>=20\n",
    "c1"
   ]
  },
  {
   "cell_type": "code",
   "execution_count": null,
   "id": "de08615e",
   "metadata": {},
   "outputs": [],
   "source": [
    "# Step 2. [] 혹은 .loc[] 활용 관측치 선택\n",
    "df_or_sub = df_or[c1]\n",
    "df_or_sub"
   ]
  },
  {
   "cell_type": "code",
   "execution_count": null,
   "id": "d6372601",
   "metadata": {
    "scrolled": true
   },
   "outputs": [],
   "source": [
    "df_or.loc[c1, :]"
   ]
  },
  {
   "cell_type": "markdown",
   "id": "9c46a29c",
   "metadata": {},
   "source": [
    "<br>\n",
    "\n",
    "#### 3.2.2. 숫자 변수 범위 지정"
   ]
  },
  {
   "cell_type": "code",
   "execution_count": null,
   "id": "3afdeb17",
   "metadata": {},
   "outputs": [],
   "source": [
    "# &를 활용한 범위 설정\n",
    "c1 = df_or['UnitPrice']>=20\n",
    "c2 = df_or['UnitPrice']<=30\n",
    "df_or[c1&c2]"
   ]
  },
  {
   "cell_type": "code",
   "execution_count": null,
   "id": "b3c84c86",
   "metadata": {},
   "outputs": [],
   "source": [
    "# between( )의 활용\n",
    "    # inclusive: 경계값 포함여부, 'both', 'neither', 'left', 'right'\n",
    "c3 = df_or['UnitPrice'].between(20, 30, inclusive='left')\n",
    "df_or[c3]"
   ]
  },
  {
   "cell_type": "markdown",
   "id": "1919a4db",
   "metadata": {},
   "source": [
    "<br>\n",
    "\n",
    "#### 3.2.3. 그룹 변수를 활용한 조건 설정"
   ]
  },
  {
   "cell_type": "code",
   "execution_count": null,
   "id": "93c4894d",
   "metadata": {},
   "outputs": [],
   "source": [
    "# 목록 확인\n",
    "df_or['Country'].drop_duplicates()"
   ]
  },
  {
   "cell_type": "code",
   "execution_count": null,
   "id": "419ae9e0",
   "metadata": {},
   "outputs": [],
   "source": [
    "# 한 그룹 선택\n",
    "c2 = df_or['Country'] == 'USA'\n",
    "df_or[c2]"
   ]
  },
  {
   "cell_type": "code",
   "execution_count": null,
   "id": "8c24094f",
   "metadata": {
    "scrolled": true
   },
   "outputs": [],
   "source": [
    "# isin() 활용여러 그룹 선택\n",
    "c3 = df_or['Country'].isin( ['USA','Canada'])\n",
    "df_or[c3]"
   ]
  },
  {
   "cell_type": "markdown",
   "id": "a90f4de9",
   "metadata": {},
   "source": [
    "<br>\n",
    "\n",
    "#### 3.2.4. 글자 변수를 활용한 조건 설정"
   ]
  },
  {
   "cell_type": "code",
   "execution_count": null,
   "id": "20647e0d",
   "metadata": {},
   "outputs": [],
   "source": [
    "pd.Series.str.contains()"
   ]
  },
  {
   "cell_type": "code",
   "execution_count": null,
   "id": "f0553410",
   "metadata": {},
   "outputs": [],
   "source": [
    "c4 = df_or['Description'].str.contains('SUMMER', na=False)\n",
    "df_or[c4]"
   ]
  },
  {
   "cell_type": "markdown",
   "id": "e174f3f5",
   "metadata": {},
   "source": [
    "<br>\n",
    "\n",
    "### [실습] df_ss에서 관측치 선택\n",
    "\n",
    "1. 'Country'의 값 목록 확인\n",
    "2. 1.의 목록 중에서 관심있는 3개 국가의 주문건 선택\n",
    "3. 'Profit'이 100 이상 200 미만인 관측치 선택\n",
    "4. 'Product ID'가 'TEC'로 시작하는 관측치 선택(.str.startswith() 활용)"
   ]
  },
  {
   "cell_type": "code",
   "execution_count": null,
   "id": "9ff353b4",
   "metadata": {},
   "outputs": [],
   "source": [
    "df_ss.head(3)"
   ]
  },
  {
   "cell_type": "code",
   "execution_count": null,
   "id": "11fe26c0",
   "metadata": {},
   "outputs": [],
   "source": []
  },
  {
   "cell_type": "code",
   "execution_count": null,
   "id": "e24e8cf0",
   "metadata": {},
   "outputs": [],
   "source": []
  },
  {
   "cell_type": "code",
   "execution_count": null,
   "id": "c7c2d5b8",
   "metadata": {},
   "outputs": [],
   "source": []
  },
  {
   "cell_type": "markdown",
   "id": "0e10f24b",
   "metadata": {},
   "source": [
    "<br>\n",
    "\n",
    "## 3. 파생 변수 생성\n",
    "\n",
    "### 3.1. 날짜 요소 추출\n",
    " * 참고: [dt.weekday](https://pandas.pydata.org/docs/reference/api/pandas.Series.dt.weekday.html)"
   ]
  },
  {
   "cell_type": "code",
   "execution_count": null,
   "id": "5966e3f6",
   "metadata": {},
   "outputs": [],
   "source": [
    "# 요일 추출\n",
    "df_or['InvoiceDate'].dt.weekday\n",
    "    # 0:월, 6:일"
   ]
  },
  {
   "cell_type": "code",
   "execution_count": null,
   "id": "1b601564-9c07-4c46-9907-55d31e4b175d",
   "metadata": {
    "tags": []
   },
   "outputs": [],
   "source": [
    "# 요일 추출(2)\n",
    "df_or['InvoiceDate'].dt.day_name()"
   ]
  },
  {
   "cell_type": "code",
   "execution_count": null,
   "id": "357cfef0",
   "metadata": {},
   "outputs": [],
   "source": [
    "# 요일 변수 추가\n",
    "df_or['InvoiceWeekday'] = df_or['InvoiceDate'].dt.weekday"
   ]
  },
  {
   "cell_type": "code",
   "execution_count": null,
   "id": "1373d572",
   "metadata": {},
   "outputs": [],
   "source": [
    "# 날짜, 월, 연월 추출\n",
    "# df_or['InvoiceDate2'] = df_or['InvoiceDate'].dt.date\n",
    "df_or['InvoiceDate2'] = df_or['InvoiceDate'].dt.normalize()\n",
    "df_or['InvoiceMonth'] = df_or['InvoiceDate'].dt.month\n",
    "df_or['InvoiceYM'] = df_or['InvoiceDate'].dt.to_period('M')\n",
    "df_or['InvoiceYM2'] = df_or['InvoiceDate'].dt.strftime('%Y%m')"
   ]
  },
  {
   "cell_type": "code",
   "execution_count": null,
   "id": "a0913b56",
   "metadata": {},
   "outputs": [],
   "source": [
    "# 결과 확인\n",
    "df_or.filter(like='Invoice')"
   ]
  },
  {
   "cell_type": "code",
   "execution_count": null,
   "id": "69f98c83",
   "metadata": {},
   "outputs": [],
   "source": [
    "# 날짜 범위 설정\n",
    "c1 = df_or['InvoiceDate2'].between('2011-07-01', '2011-07-31')\n",
    "df_or[c1]"
   ]
  },
  {
   "cell_type": "markdown",
   "id": "f31dca61",
   "metadata": {},
   "source": [
    "<br>\n",
    "\n",
    "### [실습] df_ss에서 날짜요소 추출\n",
    "\n",
    "1. 'Order Date'에서 연월(`dt.to_period('M')`), 요일(`dt.weekday`)를 각각 추출하고 변수로 추가\n",
    "2. 'Order Date' 기준 2016년 주문 정보만 선택"
   ]
  },
  {
   "cell_type": "code",
   "execution_count": null,
   "id": "10dfecae",
   "metadata": {},
   "outputs": [],
   "source": [
    "df_ss.head(3)"
   ]
  },
  {
   "cell_type": "code",
   "execution_count": null,
   "id": "03aed29d",
   "metadata": {},
   "outputs": [],
   "source": []
  },
  {
   "cell_type": "code",
   "execution_count": null,
   "id": "1f356222",
   "metadata": {},
   "outputs": [],
   "source": []
  },
  {
   "cell_type": "markdown",
   "id": "9bc9c3b6",
   "metadata": {},
   "source": [
    "<br>\n",
    "\n",
    "### 3.2. 다양한 파생변수 생성 활용"
   ]
  },
  {
   "cell_type": "code",
   "execution_count": null,
   "id": "58f6145c",
   "metadata": {},
   "outputs": [],
   "source": [
    "# 두 변수의 곱 변수 \n",
    "df_or['Amount'] = df_or['Quantity']*df_or['UnitPrice']\n",
    "df_or.head()"
   ]
  },
  {
   "cell_type": "code",
   "execution_count": null,
   "id": "003122dc",
   "metadata": {},
   "outputs": [],
   "source": [
    "# 수치형 변수의 구간화\n",
    "df_or['AGrp'] = pd.cut(df_or['Amount'], \n",
    "                       bins=[0, 2, 5, 10, 20, 999999], \n",
    "                       right=False, \n",
    "                       labels=['A','B','C','D','E'])\n",
    "\n",
    "df_or[['Amount', 'AGrp']]"
   ]
  },
  {
   "cell_type": "markdown",
   "id": "097b5fe8",
   "metadata": {},
   "source": [
    "<br>\n",
    "\n",
    "### [실습] df_ss에서  파생변수 생성\n",
    "\n",
    "1. 'Ship Date'에서 'Order Date'를 빼고 변수 'NDays' 추가\n",
    "2. 'Profit'를 [-999999, -30, 0, 10, 30, 200, 999999]로 구간화하고, ['N2','N1','P1','P2','P3','P4']로 구간이름 설정한 변수 추가\n"
   ]
  },
  {
   "cell_type": "code",
   "execution_count": null,
   "id": "2ab01b2e",
   "metadata": {},
   "outputs": [],
   "source": [
    "df"
   ]
  },
  {
   "cell_type": "code",
   "execution_count": null,
   "id": "41ea348b",
   "metadata": {},
   "outputs": [],
   "source": []
  },
  {
   "cell_type": "markdown",
   "id": "f5d3986e",
   "metadata": {},
   "source": [
    "<br>\n",
    "\n",
    "## 4. 관측치 정렬"
   ]
  },
  {
   "cell_type": "code",
   "execution_count": null,
   "id": "fe49dda0",
   "metadata": {},
   "outputs": [],
   "source": [
    "# 정렬 기준 변수 및 정렬 방법 설정\n",
    "    # 오름차순: ascending=True(기본값)\n",
    "    # 내림차순: ascending=False\n",
    "df_or[['CustomerID', 'Country']].drop_duplicates().sort_values('CustomerID', ascending=True)"
   ]
  },
  {
   "cell_type": "code",
   "execution_count": null,
   "id": "edb4260f",
   "metadata": {
    "scrolled": true
   },
   "outputs": [],
   "source": [
    "# nlargest( ), nsmallest( )로 상위/하위 관측치 선택\n",
    "    # keep='all': 동점일 경우 모두 출력\n",
    "df_or.nlargest(3, 'UnitPrice', keep='all')"
   ]
  },
  {
   "cell_type": "code",
   "execution_count": null,
   "id": "b69a02ab",
   "metadata": {},
   "outputs": [],
   "source": [
    "df_or.nsmallest(3, 'InvoiceDate', keep='all')"
   ]
  },
  {
   "cell_type": "markdown",
   "id": "0ae52220",
   "metadata": {},
   "source": [
    "<br>\n",
    "\n",
    "### [실습] df_ss의 정렬\n",
    "\n",
    "1. 'Order Date'의 오름차순(일반적인 날짜순)으로 정렬\n",
    "2. 'Sales' 기준 상위 5개 관측치 선택\n"
   ]
  },
  {
   "cell_type": "code",
   "execution_count": null,
   "id": "42ba99cb",
   "metadata": {},
   "outputs": [],
   "source": [
    "df_ss.sample(3)"
   ]
  },
  {
   "cell_type": "code",
   "execution_count": null,
   "id": "050927cd",
   "metadata": {},
   "outputs": [],
   "source": []
  },
  {
   "cell_type": "code",
   "execution_count": null,
   "id": "f15c7622",
   "metadata": {},
   "outputs": [],
   "source": []
  },
  {
   "cell_type": "code",
   "execution_count": null,
   "id": "7cc54b80",
   "metadata": {},
   "outputs": [],
   "source": []
  },
  {
   "cell_type": "code",
   "execution_count": null,
   "id": "5b787f7f",
   "metadata": {},
   "outputs": [],
   "source": []
  },
  {
   "cell_type": "markdown",
   "id": "3a9931ba",
   "metadata": {},
   "source": [
    "#### End of script"
   ]
  }
 ],
 "metadata": {
  "kernelspec": {
   "display_name": "Python 3 (ipykernel)",
   "language": "python",
   "name": "python3"
  },
  "language_info": {
   "codemirror_mode": {
    "name": "ipython",
    "version": 3
   },
   "file_extension": ".py",
   "mimetype": "text/x-python",
   "name": "python",
   "nbconvert_exporter": "python",
   "pygments_lexer": "ipython3",
   "version": "3.11.3"
  }
 },
 "nbformat": 4,
 "nbformat_minor": 5
}
