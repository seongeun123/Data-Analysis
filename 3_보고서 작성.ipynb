{
 "cells": [
  {
   "cell_type": "markdown",
   "id": "a87fec6c",
   "metadata": {},
   "source": [
    "# 1. PPT\n",
    "\n",
    "가장 확실한 방법"
   ]
  },
  {
   "cell_type": "markdown",
   "id": "9e7039ec",
   "metadata": {},
   "source": [
    "<br>\n",
    "\n",
    "# 2. Jupyter Notebook\n",
    "\n",
    "[Markdown](https://dacon.io/en/codeshare/2561)과 Python 코드, 실행 결과 등으로 구성  \n",
    "HTML 등으로 다운로드(상단 메뉴 `File` > `Download as`) 후 공유(단, plotly 반응형 그래프는 포함 불가)"
   ]
  },
  {
   "cell_type": "markdown",
   "id": "c2769c64",
   "metadata": {},
   "source": [
    "<br>\n",
    "\n",
    "# 3. 대시보드 활용  \n",
    "[Dash](https://plotly.com/examples/)를 활용해서 가벼운 대시보드(dashboard)를 구성하고 반응형 그래프 등을 배치\n"
   ]
  },
  {
   "cell_type": "code",
   "execution_count": null,
   "id": "1cc9a19e-b044-4c31-a3e0-0c19d92da79f",
   "metadata": {
    "scrolled": false,
    "tags": []
   },
   "outputs": [],
   "source": [
    "!pip install dash"
   ]
  },
  {
   "cell_type": "markdown",
   "id": "f3f82958",
   "metadata": {},
   "source": [
    "### 3.1. 대시보드 구성\n",
    "\n",
    "+ Dash(): 앱 생성 기본 함수\n",
    "+ dcc: Dash Core Components, plotly 연동 등 \n",
    "+ html: HTML tag 등 활용\n",
    "    + [참고] [HTML과 CSS](https://heropy.blog/2019/04/24/html-css-starter/)\n",
    "    + [참고] [HTML 요소/TAG](https://heropy.blog/2019/05/26/html-elements/)\n",
    "+ dash_table: DataFrame 등을 출력"
   ]
  },
  {
   "cell_type": "code",
   "execution_count": null,
   "id": "5a4079f3",
   "metadata": {
    "tags": []
   },
   "outputs": [],
   "source": [
    "from dash import Dash, dcc, html, dash_table"
   ]
  },
  {
   "cell_type": "code",
   "execution_count": null,
   "id": "ca8d10b6",
   "metadata": {
    "tags": []
   },
   "outputs": [],
   "source": [
    "# App 생성\n",
    "app = Dash(__name__)"
   ]
  },
  {
   "cell_type": "code",
   "execution_count": null,
   "id": "20638303",
   "metadata": {
    "tags": []
   },
   "outputs": [],
   "source": [
    "# App layout 구성 \n",
    "    # div: 일반적인 영역\n",
    "    # h1~h6: 제목(heading)\n",
    "    # img: 이미지 삽입\n",
    "    # p: 문장\n",
    "app.layout = html.Div([\n",
    "    html.Div([\n",
    "        html.Img(src='assets/logo.png')\n",
    "        ]),\n",
    "    html.H1('직접 만든 대시보드'),\n",
    "    '당연히 Tableau가 훨씬 더 편하고 아름답습니다.',\n",
    "    html.Br(),\n",
    "    html.H2('반응형 그래프의 활용'),\n",
    "    html.P('데이터, 그래프로 구성'),\n",
    "])\n"
   ]
  },
  {
   "cell_type": "code",
   "execution_count": null,
   "id": "c4e9d4bb",
   "metadata": {},
   "outputs": [],
   "source": [
    "# App 실행\n",
    "    # 아래의 링크 클릭\n",
    "    # 실행 중단 후 수정 가능\n",
    "app.run_server(debug=False)"
   ]
  },
  {
   "cell_type": "markdown",
   "id": "aa229569",
   "metadata": {},
   "source": [
    "<br>\n",
    "\n",
    "### 3.2. 반응형 그래프 및 데이터 추가"
   ]
  },
  {
   "cell_type": "code",
   "execution_count": null,
   "id": "10dd2948",
   "metadata": {},
   "outputs": [],
   "source": [
    "import plotly.express as px\n",
    "import numpy as np\n",
    "df = px.data.gapminder().query(\"year == 2007\")\n",
    "fig = px.sunburst(df, path=['continent', 'country'], values='pop',\n",
    "                  color='lifeExp', hover_data=['iso_alpha'],\n",
    "                  color_continuous_scale='RdBu',\n",
    "                  color_continuous_midpoint=np.average(df['lifeExp'], weights=df['pop']))"
   ]
  },
  {
   "cell_type": "code",
   "execution_count": null,
   "id": "91df86cb",
   "metadata": {},
   "outputs": [],
   "source": [
    "app = Dash(__name__)\n",
    "app.layout = html.Div([\n",
    "    html.Div([\n",
    "        html.Img(src='assets/logo.png')\n",
    "        ]),\n",
    "    html.H1('직접 만든 대시보드'),\n",
    "    '당연히 Tableau가 훨씬 더 편하고 아름답습니다.',\n",
    "    html.Br(),\n",
    "    html.H2('반응형 그래프의 활용'),\n",
    "    html.P('데이터, 그래프로 구성'),\n",
    "    \n",
    "    html.Div([\n",
    "        dcc.Graph(figure=fig),\n",
    "        dash_table.DataTable(df.to_dict('records'), [{\"name\": i, \"id\": i} for i in df.columns])\n",
    "    ])\n",
    "    \n",
    "])"
   ]
  },
  {
   "cell_type": "code",
   "execution_count": null,
   "id": "54c62cfb-e35b-4291-8274-45f2fce069da",
   "metadata": {
    "tags": []
   },
   "outputs": [],
   "source": [
    "app.run_server(debug=False)\n"
   ]
  },
  {
   "cell_type": "markdown",
   "id": "059b85e7",
   "metadata": {},
   "source": [
    "<br>\n",
    "\n",
    "### 2.3. 서식(CSS style) 지정"
   ]
  },
  {
   "cell_type": "code",
   "execution_count": null,
   "id": "103bfb8d",
   "metadata": {},
   "outputs": [],
   "source": [
    "app = Dash(__name__)\n",
    "\n",
    "app.layout = html.Div([\n",
    "    html.Div([\n",
    "        html.Img(src='assets/logo.png', style={'height':'48px'})\n",
    "        ]),\n",
    "    html.H1('직접 만든 대시보드', style={'textAlign':'center',  'color':'#00462A'}),\n",
    "    '당연히 Tableau가 훨씬 더 편하고 아름답습니다.',\n",
    "    html.Br(),\n",
    "    html.H3('반응형 그래프의 활용'),\n",
    "  \n",
    "    html.Div([\n",
    "        dcc.Graph(figure=fig)\n",
    "        ], style={'padding':'0 10%'}),\n",
    "\n",
    "    html.H3('데이터 확인'),\n",
    "\n",
    "    html.Div([\n",
    "        dash_table.DataTable(df.head().to_dict('records'), [{\"name\": i, \"id\": i} for i in df.columns])\n",
    "        ])],\n",
    "    \n",
    "    style={'width':'800px', \n",
    "           'position':'absolute', \n",
    "           'left': '50%', \n",
    "           'transform': 'translateX(-50%)', \n",
    "           'background-color':'#FCFCFC', \n",
    "           'margin':'12px',\n",
    "           'padding':'24px'}\n",
    ")"
   ]
  },
  {
   "cell_type": "code",
   "execution_count": null,
   "id": "f6cbd023",
   "metadata": {},
   "outputs": [],
   "source": [
    "app.run_server(debug=False)\n"
   ]
  },
  {
   "cell_type": "markdown",
   "id": "c51fee4b",
   "metadata": {},
   "source": [
    "<br>\n",
    "\n",
    "### 2.4. Callbacks 활용"
   ]
  },
  {
   "cell_type": "code",
   "execution_count": null,
   "id": "1e7f8a30",
   "metadata": {
    "scrolled": true
   },
   "outputs": [],
   "source": [
    "from dash import Dash, dcc, html, dash_table, Input, Output"
   ]
  },
  {
   "cell_type": "code",
   "execution_count": null,
   "id": "21986c72",
   "metadata": {},
   "outputs": [],
   "source": [
    "app = Dash(__name__)\n",
    "\n",
    "app.layout = html.Div([\n",
    "    html.Div([\n",
    "        html.Img(src='assets/logo.png', style={'height':'48px'})\n",
    "        ]),\n",
    "    html.H1('직접 만든 대시보드', style={'textAlign':'center',  'color':'#00462A'}),\n",
    "    '당연히 Tableau가 훨씬 더 편하고 아름답습니다.',\n",
    "    \n",
    "    \n",
    "    html.Div([\n",
    "        html.Br(),\n",
    "        html.Label('지역선택'),\n",
    "        dcc.Checklist(df['continent'].unique(), \n",
    "                      df['continent'].unique(), \n",
    "                      id='input_region')]),\n",
    "    \n",
    "    html.H3('반응형 그래프의 활용'),\n",
    "  \n",
    "    html.Div([\n",
    "        dcc.Graph(id='plotly_graph')\n",
    "        ], style={'padding':'0 10%'}),],\n",
    "\n",
    "    style={'width':'800px', \n",
    "           'position':'absolute', \n",
    "           'left': '50%', \n",
    "           'transform': 'translateX(-50%)', \n",
    "           'background-color':'#FCFCFC', \n",
    "           'margin':'12px',\n",
    "           'padding':'24px'}\n",
    ")\n",
    "\n",
    "@app.callback(\n",
    "    Output('plotly_graph', 'figure'),\n",
    "    Input('input_region', 'value'))\n",
    "def update_graph(input_region_value):\n",
    "    df_sub = df[df['continent'].isin(list(input_region_value))]\n",
    "    fig = px.sunburst(df_sub, path=['continent', 'country'], values='pop',\n",
    "                  color='lifeExp', hover_data=['iso_alpha'],\n",
    "                  color_continuous_scale='RdBu',\n",
    "                  color_continuous_midpoint=np.average(df['lifeExp'], weights=df['pop']))\n",
    "    return fig"
   ]
  },
  {
   "cell_type": "code",
   "execution_count": null,
   "id": "09a68c4b",
   "metadata": {},
   "outputs": [],
   "source": [
    "if __name__ == '__main__':\n",
    "    app.run_server(debug=True, use_reloader=False)"
   ]
  },
  {
   "cell_type": "markdown",
   "id": "d4ad599a",
   "metadata": {},
   "source": [
    "#### End of script"
   ]
  }
 ],
 "metadata": {
  "kernelspec": {
   "display_name": "Python 3 (ipykernel)",
   "language": "python",
   "name": "python3"
  },
  "language_info": {
   "codemirror_mode": {
    "name": "ipython",
    "version": 3
   },
   "file_extension": ".py",
   "mimetype": "text/x-python",
   "name": "python",
   "nbconvert_exporter": "python",
   "pygments_lexer": "ipython3",
   "version": "3.10.10"
  }
 },
 "nbformat": 4,
 "nbformat_minor": 5
}
